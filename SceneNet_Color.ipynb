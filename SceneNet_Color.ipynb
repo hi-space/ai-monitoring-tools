{
 "cells": [
  {
   "cell_type": "code",
   "execution_count": 13,
   "metadata": {},
   "outputs": [],
   "source": [
    "import os\n",
    "import numpy as np\n",
    "import matplotlib.pylab as plt\n",
    "from PIL import Image"
   ]
  },
  {
   "cell_type": "code",
   "execution_count": 14,
   "metadata": {},
   "outputs": [],
   "source": [
    "NYU_13_CLASSES = [(0,'Unknown'),\n",
    "                  (1,'Bed'),\n",
    "                  (2,'Books'),\n",
    "                  (3,'Ceiling'),\n",
    "                  (4,'Chair'),\n",
    "                  (5,'Floor'),\n",
    "                  (6,'Furniture'),\n",
    "                  (7,'Objects'),\n",
    "                  (8,'Picture'),\n",
    "                  (9,'Sofa'),\n",
    "                  (10,'Table'),\n",
    "                  (11,'TV'),\n",
    "                  (12,'Wall'),\n",
    "                  (13,'Window')\n",
    "]\n",
    "\n",
    "colour_code = np.array([[0, 0, 0], #UNKNOWN\n",
    "                       [0, 0, 1], #BED\n",
    "                       [0.9137,0.3490,0.1882], #BOOKS\n",
    "                       [0, 0.8549, 0], #CEILING\n",
    "                       [0.5843,0,0.9412], #CHAIR\n",
    "                       [0.8706,0.9451,0.0941], #FLOOR\n",
    "                       [1.0000,0.8078,0.8078], #FURNITURE\n",
    "                       [0,0.8784,0.8980], #OBJECTS\n",
    "                       [0.4157,0.5333,0.8000], #PAINTING\n",
    "                       [0.4588,0.1137,0.1608], #SOFA\n",
    "                       [0.9412,0.1373,0.9216], #TABLE\n",
    "                       [0,0.6549,0.6118], #TV\n",
    "                       [0.9765,0.5451,0], #WALL\n",
    "                       [0.8824,0.8980,0.7608]]) #WINDOW"
   ]
  },
  {
   "cell_type": "code",
   "execution_count": 27,
   "metadata": {},
   "outputs": [
    {
     "data": {
      "image/png": "[encoded data removed]",
      "text/plain": [
       "<Figure size 432x288 with 1 Axes>"
      ]
     },
     "metadata": {
      "needs_background": "light"
     },
     "output_type": "display_data"
    }
   ],
   "source": [
    "h = 13\n",
    "w = 13\n",
    "class_img_rgb = np.zeros((h,w,3),dtype=np.uint8)\n",
    "r = class_img_rgb[:,:,0]\n",
    "g = class_img_rgb[:,:,1]\n",
    "b = class_img_rgb[:,:,2]\n",
    "\n",
    "for i in range(13):\n",
    "    instance = i\n",
    "    r[instance] = np.uint8(colour_code[instance][0]*255)\n",
    "    g[instance] = np.uint8(colour_code[instance][1]*255)\n",
    "    b[instance] = np.uint8(colour_code[instance][2]*255)\n",
    "\n",
    "    class_img_rgb[:,:,0] = r\n",
    "    class_img_rgb[:,:,1] = g\n",
    "    class_img_rgb[:,:,2] = b\n",
    "\n",
    "    plt.imshow(class_img_rgb)"
   ]
  }
 ],
 "metadata": {
  "kernelspec": {
   "display_name": "data-engineer",
   "language": "python",
   "name": "data-engineer"
  },
  "language_info": {
   "codemirror_mode": {
    "name": "ipython",
    "version": 3
   },
   "file_extension": ".py",
   "mimetype": "text/x-python",
   "name": "python",
   "nbconvert_exporter": "python",
   "pygments_lexer": "ipython3",
   "version": "3.6.6"
  }
 },
 "nbformat": 4,
 "nbformat_minor": 2
}
